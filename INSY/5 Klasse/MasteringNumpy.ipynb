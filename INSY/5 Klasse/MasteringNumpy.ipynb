{
 "cells": [
  {
   "cell_type": "markdown",
   "id": "76816223",
   "metadata": {},
   "source": [
    "## Numpy Installation"
   ]
  },
  {
   "cell_type": "code",
   "execution_count": null,
   "id": "de7c42fc",
   "metadata": {},
   "outputs": [],
   "source": [
    "# Codeblock 1\n",
    "! pip install numpy"
   ]
  },
  {
   "cell_type": "code",
   "execution_count": 1,
   "id": "2a67625a",
   "metadata": {},
   "outputs": [
    {
     "data": {
      "text/plain": [
       "'1.26.4'"
      ]
     },
     "execution_count": 1,
     "metadata": {},
     "output_type": "execute_result"
    }
   ],
   "source": [
    "# Codeblock 2\n",
    "import numpy as np\n",
    "np.__version__"
   ]
  },
  {
   "cell_type": "markdown",
   "id": "e163fcfe",
   "metadata": {},
   "source": [
    "## Array Initialization"
   ]
  },
  {
   "cell_type": "code",
   "execution_count": 2,
   "id": "6013c873",
   "metadata": {},
   "outputs": [
    {
     "data": {
      "text/plain": [
       "array([7, 6, 5, 4, 3, 2])"
      ]
     },
     "execution_count": 2,
     "metadata": {},
     "output_type": "execute_result"
    }
   ],
   "source": [
    "# Codeblock 3\n",
    "np.array([7,6,5,4,3,2])\n",
    "\n",
    "### Alternative\n",
    "# np.asarray([7,6,5,4,3,2])"
   ]
  },
  {
   "cell_type": "code",
   "execution_count": 3,
   "id": "bb12172f",
   "metadata": {},
   "outputs": [
    {
     "name": "stdout",
     "output_type": "stream",
     "text": [
      "[7 6 5 4 3 2]\n"
     ]
    }
   ],
   "source": [
    "# Codeblock 4\n",
    "print(np.asarray([7,6,5,4,3,2]))"
   ]
  },
  {
   "cell_type": "code",
   "execution_count": 4,
   "id": "6a105999",
   "metadata": {},
   "outputs": [
    {
     "data": {
      "text/plain": [
       "[7, 6, 5, 4, 3, 2]"
      ]
     },
     "execution_count": 4,
     "metadata": {},
     "output_type": "execute_result"
    }
   ],
   "source": [
    "# Codeblock 5\n",
    "[7,6,5,4,3,2]\n",
    "\n",
    "### Returns the exact same result.\n",
    "# print([7,6,5,4,3,2])"
   ]
  },
  {
   "cell_type": "code",
   "execution_count": 5,
   "id": "61350540",
   "metadata": {},
   "outputs": [
    {
     "name": "stdout",
     "output_type": "stream",
     "text": [
      "[[7 6 5 4 3 2]\n",
      " [9 8 7 6 5 4]]\n",
      "\n",
      "[[7, 6, 5, 4, 3, 2], [9, 8, 7, 6, 5, 4]]\n"
     ]
    }
   ],
   "source": [
    "# Codeblock 6\n",
    "print(np.asarray([[7,6,5,4,3,2], \n",
    "                  [9,8,7,6,5,4]]), end='\\n\\n')\n",
    "\n",
    "print([[7,6,5,4,3,2], \n",
    "       [9,8,7,6,5,4]])"
   ]
  },
  {
   "cell_type": "code",
   "execution_count": 6,
   "id": "a87d21de",
   "metadata": {},
   "outputs": [
    {
     "name": "stdout",
     "output_type": "stream",
     "text": [
      "[2 4 6 8]\n",
      "[2, 4, 6, 8]\n"
     ]
    }
   ],
   "source": [
    "# Codeblock 7\n",
    "A = [2,4,6,8]\n",
    "B = np.array(A)   # Convert to Numpy array.\n",
    "C = B.tolist()    # Convert to Python list.\n",
    "\n",
    "print(B)\n",
    "print(C)"
   ]
  },
  {
   "cell_type": "code",
   "execution_count": 7,
   "id": "b053e8fb",
   "metadata": {},
   "outputs": [
    {
     "name": "stdout",
     "output_type": "stream",
     "text": [
      "type(A): <class 'list'>\n",
      "type(B): <class 'numpy.ndarray'>\n",
      "type(C): <class 'list'>\n"
     ]
    }
   ],
   "source": [
    "# Codeblock 8\n",
    "print('type(A):', type(A))\n",
    "print('type(B):', type(B))\n",
    "print('type(C):', type(C))"
   ]
  },
  {
   "cell_type": "code",
   "execution_count": 10,
   "id": "d53b1ee0",
   "metadata": {},
   "outputs": [
    {
     "data": {
      "text/plain": [
       "array([[  1.,   2., 666.],\n",
       "       [  2.,   3., 988.]])"
      ]
     },
     "execution_count": 10,
     "metadata": {},
     "output_type": "execute_result"
    }
   ],
   "source": [
    "# Codeblock 9\n",
    "a=np.genfromtxt('data.txt', delimiter=',')\n",
    "a"
   ]
  },
  {
   "cell_type": "markdown",
   "id": "9bd1ee00",
   "metadata": {},
   "source": [
    "## Numpy Array Limitation"
   ]
  },
  {
   "cell_type": "code",
   "execution_count": 11,
   "id": "2abe9f70",
   "metadata": {},
   "outputs": [
    {
     "data": {
      "text/plain": [
       "[2, 'Hello', True, 9.886]"
      ]
     },
     "execution_count": 11,
     "metadata": {},
     "output_type": "execute_result"
    }
   ],
   "source": [
    "# Codeblock 10\n",
    "D = [2, 'Hello', True, 9.886]\n",
    "D"
   ]
  },
  {
   "cell_type": "code",
   "execution_count": 12,
   "id": "4ad3305f",
   "metadata": {},
   "outputs": [
    {
     "name": "stdout",
     "output_type": "stream",
     "text": [
      "['2' 'Hello' 'True' '9.886']\n",
      "['2', 'Hello', 'True', '9.886']\n"
     ]
    }
   ],
   "source": [
    "# Codeblock 11\n",
    "print(np.array(D))\n",
    "print(np.array(D).tolist())"
   ]
  },
  {
   "cell_type": "markdown",
   "id": "4b260c81",
   "metadata": {},
   "source": [
    "## Computational Speed an Memory Usage"
   ]
  },
  {
   "cell_type": "code",
   "execution_count": 13,
   "id": "b44e72d8",
   "metadata": {},
   "outputs": [],
   "source": [
    "# Codeblock 12\n",
    "import time\n",
    "\n",
    "E = [123] * 9999999\n",
    "F = np.array(E, dtype='int8')"
   ]
  },
  {
   "cell_type": "code",
   "execution_count": 14,
   "id": "27a25db2",
   "metadata": {},
   "outputs": [],
   "source": [
    "# Codeblock 13\n",
    "def summation_python_sum(arr):\n",
    "    start_time = time.time()\n",
    "    sum(arr)\n",
    "    end_time = time.time()\n",
    "\n",
    "    total_time = end_time - start_time\n",
    "    return total_time\n",
    "    \n",
    "def summation_numpy_sum(arr):\n",
    "    start_time = time.time()\n",
    "    np.sum(arr)\n",
    "    end_time = time.time()\n",
    "\n",
    "    total_time = end_time - start_time\n",
    "    return total_time"
   ]
  },
  {
   "cell_type": "code",
   "execution_count": 15,
   "id": "76faba47",
   "metadata": {},
   "outputs": [
    {
     "name": "stdout",
     "output_type": "stream",
     "text": [
      "Python list with sum()\t\t:  0.1337125301361084 sec\n",
      "Python list with np.sum()\t:  0.5769858360290527 sec\n",
      "Numpy array with sum()\t\t:  1.4658737182617188 sec\n",
      "Numpy array with np.sum()\t:  0.0075109004974365234 sec\n"
     ]
    }
   ],
   "source": [
    "# Codeblock 14\n",
    "print('Python list with sum()\\t\\t: ', summation_python_sum(E), 'sec')\n",
    "print('Python list with np.sum()\\t: ', summation_numpy_sum(E), 'sec')\n",
    "print('Numpy array with sum()\\t\\t: ', summation_python_sum(F), 'sec')\n",
    "print('Numpy array with np.sum()\\t: ', summation_numpy_sum(F), 'sec')"
   ]
  },
  {
   "cell_type": "markdown",
   "id": "b45da89f",
   "metadata": {},
   "source": [
    "### Memory Usage"
   ]
  },
  {
   "cell_type": "code",
   "execution_count": 16,
   "id": "459f29ff",
   "metadata": {},
   "outputs": [
    {
     "name": "stdout",
     "output_type": "stream",
     "text": [
      "E (Python list): 80000048 bytes\n",
      "F (Numpy array): 10000111 bytes\n"
     ]
    }
   ],
   "source": [
    "# Codeblock 15\n",
    "import sys\n",
    "\n",
    "print('E (Python list):', sys.getsizeof(E), 'bytes')\n",
    "print('F (Numpy array):', sys.getsizeof(F), 'bytes')"
   ]
  },
  {
   "cell_type": "markdown",
   "id": "ca0c4814",
   "metadata": {},
   "source": [
    "## Datatypes"
   ]
  },
  {
   "cell_type": "code",
   "execution_count": 17,
   "id": "adb8767d",
   "metadata": {},
   "outputs": [
    {
     "name": "stdout",
     "output_type": "stream",
     "text": [
      "[2 4 6 8]\n",
      "int32\n",
      "int8\n"
     ]
    }
   ],
   "source": [
    "# Codeblock 16\n",
    "print(B)\n",
    "print(B.dtype)\n",
    "print(F.dtype)"
   ]
  },
  {
   "cell_type": "code",
   "execution_count": 19,
   "id": "9703a17e",
   "metadata": {},
   "outputs": [
    {
     "name": "stdout",
     "output_type": "stream",
     "text": [
      "float64\n",
      "bool\n"
     ]
    }
   ],
   "source": [
    "# Codeblock 17\n",
    "print(np.array([5, 5, 5, 5.3, 5]).dtype)\n",
    "print(np.array([True, True, False]).dtype)"
   ]
  },
  {
   "cell_type": "markdown",
   "id": "6d13cd70",
   "metadata": {},
   "source": [
    "### The Integer and Float Datatypes"
   ]
  },
  {
   "cell_type": "code",
   "execution_count": 20,
   "id": "3feead24",
   "metadata": {},
   "outputs": [
    {
     "name": "stdout",
     "output_type": "stream",
     "text": [
      "Machine parameters for int8\n",
      "---------------------------------------------------------------\n",
      "min = -128\n",
      "max = 127\n",
      "---------------------------------------------------------------\n",
      "\n",
      "Machine parameters for int16\n",
      "---------------------------------------------------------------\n",
      "min = -32768\n",
      "max = 32767\n",
      "---------------------------------------------------------------\n",
      "\n",
      "Machine parameters for int32\n",
      "---------------------------------------------------------------\n",
      "min = -2147483648\n",
      "max = 2147483647\n",
      "---------------------------------------------------------------\n",
      "\n",
      "Machine parameters for int64\n",
      "---------------------------------------------------------------\n",
      "min = -9223372036854775808\n",
      "max = 9223372036854775807\n",
      "---------------------------------------------------------------\n",
      "\n"
     ]
    }
   ],
   "source": [
    "# Codeblock 18\n",
    "print(np.iinfo(np.int8))\n",
    "print(np.iinfo(np.int16))\n",
    "print(np.iinfo(np.int32))\n",
    "print(np.iinfo(np.int64))"
   ]
  },
  {
   "cell_type": "code",
   "execution_count": 21,
   "id": "b6b0006d",
   "metadata": {},
   "outputs": [
    {
     "name": "stdout",
     "output_type": "stream",
     "text": [
      "Machine parameters for float16\n",
      "---------------------------------------------------------------\n",
      "precision =   3   resolution = 1.00040e-03\n",
      "machep =    -10   eps =        9.76562e-04\n",
      "negep =     -11   epsneg =     4.88281e-04\n",
      "minexp =    -14   tiny =       6.10352e-05\n",
      "maxexp =     16   max =        6.55040e+04\n",
      "nexp =        5   min =        -max\n",
      "smallest_normal = 6.10352e-05   smallest_subnormal = 5.96046e-08\n",
      "---------------------------------------------------------------\n",
      "\n",
      "Machine parameters for float32\n",
      "---------------------------------------------------------------\n",
      "precision =   6   resolution = 1.0000000e-06\n",
      "machep =    -23   eps =        1.1920929e-07\n",
      "negep =     -24   epsneg =     5.9604645e-08\n",
      "minexp =   -126   tiny =       1.1754944e-38\n",
      "maxexp =    128   max =        3.4028235e+38\n",
      "nexp =        8   min =        -max\n",
      "smallest_normal = 1.1754944e-38   smallest_subnormal = 1.4012985e-45\n",
      "---------------------------------------------------------------\n",
      "\n",
      "Machine parameters for float64\n",
      "---------------------------------------------------------------\n",
      "precision =  15   resolution = 1.0000000000000001e-15\n",
      "machep =    -52   eps =        2.2204460492503131e-16\n",
      "negep =     -53   epsneg =     1.1102230246251565e-16\n",
      "minexp =  -1022   tiny =       2.2250738585072014e-308\n",
      "maxexp =   1024   max =        1.7976931348623157e+308\n",
      "nexp =       11   min =        -max\n",
      "smallest_normal = 2.2250738585072014e-308   smallest_subnormal = 4.9406564584124654e-324\n",
      "---------------------------------------------------------------\n",
      "\n"
     ]
    }
   ],
   "source": [
    "# Codeblock 19\n",
    "print(np.finfo(np.float16))\n",
    "print(np.finfo(np.float32))\n",
    "print(np.finfo(np.float64))"
   ]
  },
  {
   "cell_type": "markdown",
   "id": "c0baf68d",
   "metadata": {},
   "source": [
    "## Indexing and Slicing"
   ]
  },
  {
   "cell_type": "code",
   "execution_count": 22,
   "id": "b7da9076",
   "metadata": {},
   "outputs": [],
   "source": [
    "# Codeblock 20\n",
    "G = np.array([9, 7, 5, 6, 4, 8, 2, 6, 9, 5, 2, 4, 1, 4])"
   ]
  },
  {
   "cell_type": "code",
   "execution_count": 23,
   "id": "b1901016",
   "metadata": {},
   "outputs": [
    {
     "name": "stdout",
     "output_type": "stream",
     "text": [
      "G[7]\t\t: 6\n",
      "G[-2]\t\t: 1\n",
      "G[:3]\t\t: [9 7 5]\n",
      "G[3:]\t\t: [6 4 8 2 6 9 5 2 4 1 4]\n",
      "G[2:6]\t\t: [5 6 4 8]\n",
      "G[1:7:2]\t: [7 6 8]\n",
      "G[::3]\t\t: [9 6 2 5 1]\n"
     ]
    }
   ],
   "source": [
    "# Codeblock 21\n",
    "print('G[7]\\t\\t:', G[7])        #(1)\n",
    "print('G[-2]\\t\\t:', G[-2])      #(2)\n",
    "print('G[:3]\\t\\t:', G[:3])      #(3)\n",
    "print('G[3:]\\t\\t:', G[3:])      #(4)\n",
    "print('G[2:6]\\t\\t:', G[2:6])    #(5)\n",
    "print('G[1:7:2]\\t:', G[1:7:2])  #(6)\n",
    "print('G[::3]\\t\\t:', G[::3])    #(7)"
   ]
  },
  {
   "cell_type": "code",
   "execution_count": 24,
   "id": "41f0eb04",
   "metadata": {},
   "outputs": [
    {
     "name": "stdout",
     "output_type": "stream",
     "text": [
      "G[H]\t: [2 4 8 6 4 6]\n"
     ]
    }
   ],
   "source": [
    "# Codeblock 22\n",
    "H = np.array([6,4,5,7,4,3])\n",
    "print('G[H]\\t:', G[H])"
   ]
  },
  {
   "cell_type": "markdown",
   "id": "c4a90d7e",
   "metadata": {},
   "source": [
    "### Multidimensional Arrays"
   ]
  },
  {
   "cell_type": "code",
   "execution_count": 25,
   "id": "132064eb",
   "metadata": {},
   "outputs": [
    {
     "data": {
      "text/plain": [
       "array([[3, 1, 5, 7],\n",
       "       [2, 5, 3, 2],\n",
       "       [3, 8, 5, 9],\n",
       "       [4, 8, 2, 6]])"
      ]
     },
     "execution_count": 25,
     "metadata": {},
     "output_type": "execute_result"
    }
   ],
   "source": [
    "# Codeblock 23\n",
    "I = np.array([[3, 1, 5, 7], \n",
    "              [2, 5, 3, 2], \n",
    "              [3, 8, 5, 9],\n",
    "              [4, 8, 2, 6]])\n",
    "I"
   ]
  },
  {
   "cell_type": "code",
   "execution_count": 26,
   "id": "aa17cf73",
   "metadata": {},
   "outputs": [
    {
     "data": {
      "text/plain": [
       "5"
      ]
     },
     "execution_count": 26,
     "metadata": {},
     "output_type": "execute_result"
    }
   ],
   "source": [
    "# Codeblock 24\n",
    "I[0,2]"
   ]
  },
  {
   "cell_type": "code",
   "execution_count": 27,
   "id": "81b99935",
   "metadata": {},
   "outputs": [
    {
     "data": {
      "text/plain": [
       "array([[3, 1, 5],\n",
       "       [2, 5, 3]])"
      ]
     },
     "execution_count": 27,
     "metadata": {},
     "output_type": "execute_result"
    }
   ],
   "source": [
    "# Codeblock 25\n",
    "I[:2,:3]"
   ]
  },
  {
   "cell_type": "code",
   "execution_count": 28,
   "id": "82699abf",
   "metadata": {},
   "outputs": [
    {
     "data": {
      "text/plain": [
       "array([[1, 5],\n",
       "       [5, 3],\n",
       "       [8, 5],\n",
       "       [8, 2]])"
      ]
     },
     "execution_count": 28,
     "metadata": {},
     "output_type": "execute_result"
    }
   ],
   "source": [
    "# Codeblock 26\n",
    "I[:,1:3]"
   ]
  },
  {
   "cell_type": "code",
   "execution_count": 29,
   "id": "2df12276",
   "metadata": {},
   "outputs": [
    {
     "data": {
      "text/plain": [
       "array([[1, 5],\n",
       "       [5, 3],\n",
       "       [8, 5]])"
      ]
     },
     "execution_count": 29,
     "metadata": {},
     "output_type": "execute_result"
    }
   ],
   "source": [
    "# Codeblock 27\n",
    "I[:-1,1:3]"
   ]
  },
  {
   "cell_type": "code",
   "execution_count": 30,
   "id": "6f265697",
   "metadata": {},
   "outputs": [
    {
     "data": {
      "text/plain": [
       "array([[3, 1, 5],\n",
       "       [3, 8, 5]])"
      ]
     },
     "execution_count": 30,
     "metadata": {},
     "output_type": "execute_result"
    }
   ],
   "source": [
    "# Codeblock 28\n",
    "I[[0,2], :3]"
   ]
  },
  {
   "cell_type": "code",
   "execution_count": 31,
   "id": "a5079a5d",
   "metadata": {},
   "outputs": [
    {
     "data": {
      "text/plain": [
       "array([3, 5, 5])"
      ]
     },
     "execution_count": 31,
     "metadata": {},
     "output_type": "execute_result"
    }
   ],
   "source": [
    "# Codeblock 29\n",
    "I[[0,1,2], [0,1,2]]"
   ]
  },
  {
   "cell_type": "markdown",
   "id": "cc5918a0",
   "metadata": {},
   "source": [
    "## Array Generation Functions"
   ]
  },
  {
   "cell_type": "code",
   "execution_count": 32,
   "id": "26155de0",
   "metadata": {},
   "outputs": [
    {
     "data": {
      "text/plain": [
       "array([1., 1., 1., 1., 1., 1., 1., 1., 1., 1.])"
      ]
     },
     "execution_count": 32,
     "metadata": {},
     "output_type": "execute_result"
    }
   ],
   "source": [
    "# Codeblock 30\n",
    "np.ones(10)"
   ]
  },
  {
   "cell_type": "code",
   "execution_count": 33,
   "id": "27d85fc5",
   "metadata": {},
   "outputs": [
    {
     "data": {
      "text/plain": [
       "array([[0., 0., 0.],\n",
       "       [0., 0., 0.],\n",
       "       [0., 0., 0.],\n",
       "       [0., 0., 0.]])"
      ]
     },
     "execution_count": 33,
     "metadata": {},
     "output_type": "execute_result"
    }
   ],
   "source": [
    "# Codeblock 31\n",
    "np.zeros((4,3))"
   ]
  },
  {
   "cell_type": "code",
   "execution_count": 34,
   "id": "cdc1d004",
   "metadata": {},
   "outputs": [
    {
     "data": {
      "text/plain": [
       "array([[[0., 0., 0., 0., 0., 0.],\n",
       "        [0., 0., 0., 0., 0., 0.],\n",
       "        [0., 0., 0., 0., 0., 0.],\n",
       "        [0., 0., 0., 0., 0., 0.],\n",
       "        [0., 0., 0., 0., 0., 0.]],\n",
       "\n",
       "       [[0., 0., 0., 0., 0., 0.],\n",
       "        [0., 0., 0., 0., 0., 0.],\n",
       "        [0., 0., 0., 0., 0., 0.],\n",
       "        [0., 0., 0., 0., 0., 0.],\n",
       "        [0., 0., 0., 0., 0., 0.]],\n",
       "\n",
       "       [[0., 0., 0., 0., 0., 0.],\n",
       "        [0., 0., 0., 0., 0., 0.],\n",
       "        [0., 0., 0., 0., 0., 0.],\n",
       "        [0., 0., 0., 0., 0., 0.],\n",
       "        [0., 0., 0., 0., 0., 0.]],\n",
       "\n",
       "       [[0., 0., 0., 0., 0., 0.],\n",
       "        [0., 0., 0., 0., 0., 0.],\n",
       "        [0., 0., 0., 0., 0., 0.],\n",
       "        [0., 0., 0., 0., 0., 0.],\n",
       "        [0., 0., 0., 0., 0., 0.]]])"
      ]
     },
     "execution_count": 34,
     "metadata": {},
     "output_type": "execute_result"
    }
   ],
   "source": [
    "# Codeblock 32\n",
    "np.zeros((4,5,6))"
   ]
  },
  {
   "cell_type": "code",
   "execution_count": 35,
   "id": "399bc2a8",
   "metadata": {},
   "outputs": [
    {
     "data": {
      "text/plain": [
       "array([[1., 0., 0., 0., 0., 0.],\n",
       "       [0., 1., 0., 0., 0., 0.],\n",
       "       [0., 0., 1., 0., 0., 0.],\n",
       "       [0., 0., 0., 1., 0., 0.],\n",
       "       [0., 0., 0., 0., 1., 0.],\n",
       "       [0., 0., 0., 0., 0., 1.]])"
      ]
     },
     "execution_count": 35,
     "metadata": {},
     "output_type": "execute_result"
    }
   ],
   "source": [
    "# Codeblock 33\n",
    "np.identity(6)"
   ]
  },
  {
   "cell_type": "code",
   "execution_count": 36,
   "id": "a102e8f3",
   "metadata": {},
   "outputs": [
    {
     "data": {
      "text/plain": [
       "array([[0., 1., 0., 0.],\n",
       "       [0., 0., 1., 0.],\n",
       "       [0., 0., 0., 1.],\n",
       "       [0., 0., 0., 0.],\n",
       "       [0., 0., 0., 0.],\n",
       "       [0., 0., 0., 0.]])"
      ]
     },
     "execution_count": 36,
     "metadata": {},
     "output_type": "execute_result"
    }
   ],
   "source": [
    "# Codeblock 34\n",
    "np.eye(N=6, M=4, k=1)"
   ]
  },
  {
   "cell_type": "code",
   "execution_count": 37,
   "id": "f407a782",
   "metadata": {},
   "outputs": [
    {
     "data": {
      "text/plain": [
       "array([[1, 0, 0, 0, 0],\n",
       "       [0, 4, 0, 0, 0],\n",
       "       [0, 0, 3, 0, 0],\n",
       "       [0, 0, 0, 4, 0],\n",
       "       [0, 0, 0, 0, 4]])"
      ]
     },
     "execution_count": 37,
     "metadata": {},
     "output_type": "execute_result"
    }
   ],
   "source": [
    "# Codeblock 35\n",
    "np.diag([1,4,3,4,4])"
   ]
  },
  {
   "cell_type": "code",
   "execution_count": 38,
   "id": "9f4f93a3",
   "metadata": {},
   "outputs": [
    {
     "data": {
      "text/plain": [
       "array([[0.00000000e+000, 0.00000000e+000, 0.00000000e+000],\n",
       "       [0.00000000e+000, 0.00000000e+000, 7.33193418e-321],\n",
       "       [1.78019082e-306, 1.37959740e-306, 2.29178686e-312]])"
      ]
     },
     "execution_count": 38,
     "metadata": {},
     "output_type": "execute_result"
    }
   ],
   "source": [
    "# Codeblock 36\n",
    "np.empty((3,3))"
   ]
  },
  {
   "cell_type": "code",
   "execution_count": 39,
   "id": "bafe8205",
   "metadata": {},
   "outputs": [
    {
     "data": {
      "text/plain": [
       "array([[999, 999, 999, 999, 999],\n",
       "       [999, 999, 999, 999, 999],\n",
       "       [999, 999, 999, 999, 999]])"
      ]
     },
     "execution_count": 39,
     "metadata": {},
     "output_type": "execute_result"
    }
   ],
   "source": [
    "# Codeblock 37\n",
    "J = np.full(shape=(3,5), fill_value=999)\n",
    "J"
   ]
  },
  {
   "cell_type": "code",
   "execution_count": 40,
   "id": "18dc4a6e",
   "metadata": {},
   "outputs": [
    {
     "data": {
      "text/plain": [
       "array([[111, 111, 111, 111, 111],\n",
       "       [111, 111, 111, 111, 111],\n",
       "       [111, 111, 111, 111, 111]])"
      ]
     },
     "execution_count": 40,
     "metadata": {},
     "output_type": "execute_result"
    }
   ],
   "source": [
    "# Codeblock 38\n",
    "np.full_like(J, fill_value=111)"
   ]
  },
  {
   "cell_type": "code",
   "execution_count": 41,
   "id": "fce453ea",
   "metadata": {},
   "outputs": [
    {
     "name": "stdout",
     "output_type": "stream",
     "text": [
      "[[      0       0       0       0       0]\n",
      " [      0       0       0       0       0]\n",
      " [   1536       0       0 7602273       0]]\n",
      "\n",
      "[[1 1 1 1 1]\n",
      " [1 1 1 1 1]\n",
      " [1 1 1 1 1]]\n",
      "\n",
      "[[0 0 0 0 0]\n",
      " [0 0 0 0 0]\n",
      " [0 0 0 0 0]]\n"
     ]
    }
   ],
   "source": [
    "# Codeblock 39\n",
    "print(np.empty_like(J), end='\\n\\n')\n",
    "print(np.ones_like(J), end='\\n\\n')\n",
    "print(np.zeros_like(J))"
   ]
  },
  {
   "cell_type": "markdown",
   "id": "aa92e17a",
   "metadata": {},
   "source": [
    "### Sequential Numbers"
   ]
  },
  {
   "cell_type": "code",
   "execution_count": 42,
   "id": "c09c2097",
   "metadata": {},
   "outputs": [
    {
     "data": {
      "text/plain": [
       "array([ 0,  1,  2,  3,  4,  5,  6,  7,  8,  9, 10, 11, 12, 13, 14, 15, 16,\n",
       "       17, 18, 19])"
      ]
     },
     "execution_count": 42,
     "metadata": {},
     "output_type": "execute_result"
    }
   ],
   "source": [
    "# Codeblock 40\n",
    "np.arange(20)"
   ]
  },
  {
   "cell_type": "code",
   "execution_count": 43,
   "id": "eddbe73f",
   "metadata": {},
   "outputs": [
    {
     "data": {
      "text/plain": [
       "[0, 1, 2, 3, 4, 5, 6, 7, 8, 9, 10, 11, 12, 13, 14, 15, 16, 17, 18, 19]"
      ]
     },
     "execution_count": 43,
     "metadata": {},
     "output_type": "execute_result"
    }
   ],
   "source": [
    "# Codeblock 41\n",
    "[i for i in range(20)]"
   ]
  },
  {
   "cell_type": "code",
   "execution_count": 44,
   "id": "8467ca77",
   "metadata": {},
   "outputs": [
    {
     "name": "stdout",
     "output_type": "stream",
     "text": [
      "[ 3  5  7  9 11 13 15 17 19]\n",
      "\n",
      "[100  97  94  91  88  85  82  79  76  73  70  67  64  61  58  55  52  49\n",
      "  46  43  40  37  34  31  28  25  22  19  16  13  10   7   4   1]\n",
      "\n",
      "[20.  20.5 21.  21.5 22.  22.5 23.  23.5 24.  24.5 25.  25.5 26.  26.5\n",
      " 27.  27.5 28.  28.5 29.  29.5]\n"
     ]
    }
   ],
   "source": [
    "# Codeblock 42\n",
    "print(np.arange(3, 20, 2), end='\\n\\n')\n",
    "print(np.arange(100, 0, -3), end='\\n\\n')\n",
    "print(np.arange(20, 30, 0.5))"
   ]
  },
  {
   "cell_type": "code",
   "execution_count": 45,
   "id": "ee7e2400",
   "metadata": {},
   "outputs": [
    {
     "data": {
      "text/plain": [
       "array([ 1.        ,  1.28571429,  1.57142857,  1.85714286,  2.14285714,\n",
       "        2.42857143,  2.71428571,  3.        ,  3.28571429,  3.57142857,\n",
       "        3.85714286,  4.14285714,  4.42857143,  4.71428571,  5.        ,\n",
       "        5.28571429,  5.57142857,  5.85714286,  6.14285714,  6.42857143,\n",
       "        6.71428571,  7.        ,  7.28571429,  7.57142857,  7.85714286,\n",
       "        8.14285714,  8.42857143,  8.71428571,  9.        ,  9.28571429,\n",
       "        9.57142857,  9.85714286, 10.14285714, 10.42857143, 10.71428571,\n",
       "       11.        , 11.28571429, 11.57142857, 11.85714286, 12.14285714,\n",
       "       12.42857143, 12.71428571, 13.        , 13.28571429, 13.57142857,\n",
       "       13.85714286, 14.14285714, 14.42857143, 14.71428571, 15.        ])"
      ]
     },
     "execution_count": 45,
     "metadata": {},
     "output_type": "execute_result"
    }
   ],
   "source": [
    "# Codeblock 43\n",
    "np.linspace(1, 15, 50)"
   ]
  },
  {
   "cell_type": "code",
   "execution_count": null,
   "id": "3ae2192e",
   "metadata": {},
   "outputs": [],
   "source": [
    "# Codeblock 44\n",
    "np.geomspace(1, 15, 50)"
   ]
  },
  {
   "cell_type": "markdown",
   "id": "d5430af7",
   "metadata": {},
   "source": [
    "## Random Numbers"
   ]
  },
  {
   "cell_type": "code",
   "execution_count": 46,
   "id": "03a31566",
   "metadata": {},
   "outputs": [
    {
     "data": {
      "text/plain": [
       "array([[0.20237701, 0.45050796, 0.92819633],\n",
       "       [0.0311238 , 0.91292546, 0.90895532],\n",
       "       [0.07317355, 0.27263394, 0.40486536],\n",
       "       [0.49127385, 0.8321549 , 0.8428416 ],\n",
       "       [0.76714252, 0.67377306, 0.213268  ],\n",
       "       [0.99359111, 0.97184538, 0.62971937],\n",
       "       [0.24358228, 0.64572177, 0.43588899],\n",
       "       [0.48673836, 0.81785111, 0.60452054],\n",
       "       [0.65022732, 0.07095168, 0.95544542],\n",
       "       [0.14410054, 0.24482673, 0.08249012]])"
      ]
     },
     "execution_count": 46,
     "metadata": {},
     "output_type": "execute_result"
    }
   ],
   "source": [
    "# Codeblock 1\n",
    "np.random.rand(10,3)\n",
    "\n",
    "### Alternative\n",
    "# np.random.random((10,3))"
   ]
  },
  {
   "cell_type": "code",
   "execution_count": 47,
   "id": "01b3db63",
   "metadata": {},
   "outputs": [
    {
     "data": {
      "text/plain": [
       "array([[97.91158656, 93.18955532, 95.68686127, 98.05408464, 92.17039237],\n",
       "       [94.35039416, 97.17973531, 90.39095469, 91.06690321, 99.19238899],\n",
       "       [93.12224396, 93.61360536, 99.28827431, 98.35343318, 99.81575142],\n",
       "       [90.83245885, 91.75185566, 99.70239424, 94.06214556, 98.50447748],\n",
       "       [95.77513768, 90.07760019, 97.0253463 , 91.6987261 , 92.32534217]])"
      ]
     },
     "execution_count": 47,
     "metadata": {},
     "output_type": "execute_result"
    }
   ],
   "source": [
    "# Codeblock 2\n",
    "np.random.uniform(low=90, high=100, size=(5,5))"
   ]
  },
  {
   "cell_type": "code",
   "execution_count": 48,
   "id": "5c4c3391",
   "metadata": {},
   "outputs": [
    {
     "data": {
      "text/plain": [
       "(array([4886, 5064, 5010, 4874, 4973, 5072, 5038, 4951, 5065, 5067],\n",
       "       dtype=int64),\n",
       " array([2.15410234e-05, 1.00018146e-01, 2.00014751e-01, 3.00011357e-01,\n",
       "        4.00007962e-01, 5.00004567e-01, 6.00001172e-01, 6.99997777e-01,\n",
       "        7.99994383e-01, 8.99990988e-01, 9.99987593e-01]))"
      ]
     },
     "execution_count": 48,
     "metadata": {},
     "output_type": "execute_result"
    }
   ],
   "source": [
    "# Codeblock 3\n",
    "np.histogram(np.random.uniform(size=(50000)))\n",
    "\n",
    "### Yields similar results\n",
    "np.histogram(np.random.rand(50000))\n",
    "# np.histogram(np.random.random(50000))"
   ]
  },
  {
   "cell_type": "markdown",
   "id": "005344fd",
   "metadata": {},
   "source": [
    "### Normal Distribution"
   ]
  },
  {
   "cell_type": "code",
   "execution_count": 49,
   "id": "1ed00730",
   "metadata": {},
   "outputs": [
    {
     "data": {
      "text/plain": [
       "array([[-0.18037627, -0.3361307 , -0.2439686 , -0.14558759],\n",
       "       [ 0.07207894, -0.72867758,  1.12033921, -0.23098253],\n",
       "       [ 0.28819842, -1.06764023,  0.32172876, -0.31101436],\n",
       "       [ 0.32663875,  0.80105638, -1.04975015,  0.24375155],\n",
       "       [ 0.03368483,  1.67128271, -0.10726915, -0.26536589],\n",
       "       [-0.38977945,  0.21767445,  1.3424627 , -0.08782592]])"
      ]
     },
     "execution_count": 49,
     "metadata": {},
     "output_type": "execute_result"
    }
   ],
   "source": [
    "# Codeblock 4\n",
    "np.random.randn(6,4)"
   ]
  },
  {
   "cell_type": "code",
   "execution_count": 50,
   "id": "b902b348",
   "metadata": {},
   "outputs": [
    {
     "data": {
      "text/plain": [
       "array([[ 1.23228817,  5.75972134,  7.58692082,  4.41643617,  6.44278461],\n",
       "       [ 4.95979402,  8.30153828,  7.33831479,  8.05370828,  9.3399523 ],\n",
       "       [ 7.86557572,  0.06490603,  8.57783644,  8.82136299,  1.54457145],\n",
       "       [10.52337975, 10.86448313,  9.03125541,  8.01437783, 10.14289864],\n",
       "       [13.67196053,  4.00102507,  7.40154876,  7.4016695 , 14.94153762]])"
      ]
     },
     "execution_count": 50,
     "metadata": {},
     "output_type": "execute_result"
    }
   ],
   "source": [
    "# Codeblock 5\n",
    "np.random.normal(loc=8, scale=3, size=(5,5))"
   ]
  },
  {
   "cell_type": "code",
   "execution_count": 51,
   "id": "25e03953",
   "metadata": {},
   "outputs": [
    {
     "data": {
      "text/plain": [
       "(array([   35,   458,  2546,  8316, 14516, 14147,  7478,  2128,   338,\n",
       "           38], dtype=int64),\n",
       " array([-3.90020395, -3.11024227, -2.32028058, -1.53031889, -0.74035721,\n",
       "         0.04960448,  0.83956616,  1.62952785,  2.41948954,  3.20945122,\n",
       "         3.99941291]))"
      ]
     },
     "execution_count": 51,
     "metadata": {},
     "output_type": "execute_result"
    }
   ],
   "source": [
    "# Codeblock 6\n",
    "np.histogram(np.random.normal(loc=0, scale=1, size=50000))\n",
    "\n",
    "### Yields similar result\n",
    "np.histogram(np.random.randn(50000))"
   ]
  },
  {
   "cell_type": "markdown",
   "id": "86f57f9c",
   "metadata": {},
   "source": [
    "### Random Integer"
   ]
  },
  {
   "cell_type": "code",
   "execution_count": 52,
   "id": "3ab07e67",
   "metadata": {},
   "outputs": [
    {
     "data": {
      "text/plain": [
       "array([[5, 9, 9],\n",
       "       [7, 8, 5],\n",
       "       [5, 5, 7],\n",
       "       [8, 9, 6],\n",
       "       [9, 5, 8],\n",
       "       [5, 5, 9],\n",
       "       [5, 9, 7],\n",
       "       [5, 5, 8],\n",
       "       [9, 7, 8],\n",
       "       [6, 8, 7],\n",
       "       [9, 7, 7],\n",
       "       [8, 9, 8],\n",
       "       [9, 7, 6],\n",
       "       [5, 7, 5],\n",
       "       [7, 6, 8],\n",
       "       [6, 5, 5],\n",
       "       [5, 7, 9],\n",
       "       [5, 5, 9],\n",
       "       [5, 6, 5],\n",
       "       [8, 6, 9]])"
      ]
     },
     "execution_count": 52,
     "metadata": {},
     "output_type": "execute_result"
    }
   ],
   "source": [
    "# Codeblock 7\n",
    "np.random.randint(low=5, high=10, size=(20,3))"
   ]
  },
  {
   "cell_type": "markdown",
   "id": "ae752264",
   "metadata": {},
   "source": [
    "### Array Shuffling"
   ]
  },
  {
   "cell_type": "code",
   "execution_count": 53,
   "id": "864b8c5a",
   "metadata": {},
   "outputs": [
    {
     "data": {
      "text/plain": [
       "array([25, 27,  7, 12,  7, 10,  8, 23, 11, 25])"
      ]
     },
     "execution_count": 53,
     "metadata": {},
     "output_type": "execute_result"
    }
   ],
   "source": [
    "# Codeblock 8\n",
    "K = np.random.randint(1, 30, size=10)\n",
    "K"
   ]
  },
  {
   "cell_type": "code",
   "execution_count": 54,
   "id": "9e0c4715",
   "metadata": {},
   "outputs": [
    {
     "name": "stdout",
     "output_type": "stream",
     "text": [
      "K before shuffle\t:  [25 27  7 12  7 10  8 23 11 25]\n",
      "K after shuffle\t\t:  [27 10 25 12 11  7  8  7 23 25]\n"
     ]
    }
   ],
   "source": [
    "# Codeblock 9\n",
    "print('K before shuffle\\t: ', K)\n",
    "np.random.shuffle(K)\n",
    "print('K after shuffle\\t\\t: ', K)"
   ]
  },
  {
   "cell_type": "markdown",
   "id": "7f6e7450",
   "metadata": {},
   "source": [
    "### Random Choice"
   ]
  },
  {
   "cell_type": "code",
   "execution_count": null,
   "id": "5c55bfb3",
   "metadata": {},
   "outputs": [],
   "source": [
    "# Codeblock 10\n",
    "print(np.random.choice(K), end='\\n\\n')                #(1)\n",
    "print(np.random.choice(K, size=(2,3)), end='\\n\\n')    #(2)\n",
    "print(np.random.choice(K, size=(2,4), replace=False)) #(3)"
   ]
  },
  {
   "cell_type": "markdown",
   "id": "3ad4b9db",
   "metadata": {},
   "source": [
    "### Seed"
   ]
  },
  {
   "cell_type": "code",
   "execution_count": null,
   "id": "e3e6b72f",
   "metadata": {},
   "outputs": [],
   "source": [
    "# Codeblock 11\n",
    "np.random.seed(99)\n",
    "np.random.randint(low=0, high=10, size=(2,5))"
   ]
  },
  {
   "cell_type": "code",
   "execution_count": null,
   "id": "d11675d5",
   "metadata": {},
   "outputs": [],
   "source": [
    "# Codeblock 12\n",
    "np.random.seed(99)\n",
    "np.random.randint(low=0, high=10, size=(2,5))"
   ]
  },
  {
   "cell_type": "markdown",
   "id": "b734e86f",
   "metadata": {},
   "source": [
    "## View and Copy"
   ]
  },
  {
   "cell_type": "markdown",
   "id": "b5f8bbeb",
   "metadata": {},
   "source": [
    "### View"
   ]
  },
  {
   "cell_type": "code",
   "execution_count": null,
   "id": "84047a3e",
   "metadata": {},
   "outputs": [],
   "source": [
    "# Codeblock 13\n",
    "L = np.array([55, 66, 77, 88, 99])\n",
    "M = L\n",
    "print(M)"
   ]
  },
  {
   "cell_type": "code",
   "execution_count": null,
   "id": "a1247f9c",
   "metadata": {},
   "outputs": [],
   "source": [
    "# Codeblock 14\n",
    "M[0] = 15\n",
    "print('L:', L)\n",
    "print('M:', M)"
   ]
  },
  {
   "cell_type": "code",
   "execution_count": null,
   "id": "a7fb3b68",
   "metadata": {},
   "outputs": [],
   "source": []
  },
  {
   "cell_type": "code",
   "execution_count": null,
   "id": "88a17f04",
   "metadata": {},
   "outputs": [],
   "source": []
  },
  {
   "cell_type": "code",
   "execution_count": null,
   "id": "6ffabfec",
   "metadata": {},
   "outputs": [],
   "source": []
  },
  {
   "cell_type": "code",
   "execution_count": null,
   "id": "6768cd68",
   "metadata": {},
   "outputs": [],
   "source": []
  },
  {
   "cell_type": "code",
   "execution_count": null,
   "id": "a0d67683",
   "metadata": {},
   "outputs": [],
   "source": []
  },
  {
   "cell_type": "code",
   "execution_count": null,
   "id": "0e13e5bd",
   "metadata": {},
   "outputs": [],
   "source": []
  },
  {
   "cell_type": "markdown",
   "id": "5df951a7",
   "metadata": {},
   "source": [
    "### Copy"
   ]
  },
  {
   "cell_type": "code",
   "execution_count": null,
   "id": "1e0f1c11",
   "metadata": {},
   "outputs": [],
   "source": [
    "# Codeblock 15\n",
    "L = np.array([55, 66, 77, 88, 99])\n",
    "M = L.copy()\n",
    "M[0] = 15\n",
    "\n",
    "print('L:', L)\n",
    "print('M:', M)"
   ]
  },
  {
   "cell_type": "markdown",
   "id": "977ce975",
   "metadata": {},
   "source": [
    "## Mathematical Functions"
   ]
  },
  {
   "cell_type": "markdown",
   "id": "f40a0265",
   "metadata": {},
   "source": [
    "### Basic Mathematical Operations"
   ]
  },
  {
   "cell_type": "code",
   "execution_count": null,
   "id": "88ccdead",
   "metadata": {},
   "outputs": [],
   "source": [
    "# Codeblock 16\n",
    "N = np.array([1,2,3], dtype='int32')\n",
    "O = np.array([4,5,6], dtype='int32')"
   ]
  },
  {
   "cell_type": "code",
   "execution_count": null,
   "id": "96a709cd",
   "metadata": {},
   "outputs": [],
   "source": [
    "# Codeblock 17\n",
    "print(N + O)\n",
    "print(N - O)\n",
    "print(N * O)\n",
    "print(N / O)"
   ]
  },
  {
   "cell_type": "code",
   "execution_count": null,
   "id": "1fd54695",
   "metadata": {},
   "outputs": [],
   "source": [
    "# Codeblock 18\n",
    "print(np.add(N, O))\n",
    "print(np.subtract(N, O))\n",
    "print(np.multiply(N, O))\n",
    "print(np.divide(N, O))"
   ]
  },
  {
   "cell_type": "code",
   "execution_count": null,
   "id": "a18cb72e",
   "metadata": {},
   "outputs": [],
   "source": [
    "# Codeblock 19\n",
    "print(N + 5)\n",
    "print(N - 5)\n",
    "print(N * 5)\n",
    "print(N / 5)"
   ]
  },
  {
   "cell_type": "code",
   "execution_count": null,
   "id": "c20f51c2",
   "metadata": {},
   "outputs": [],
   "source": [
    "# Codeblock 20\n",
    "O = np.array([[2, 1, 0], \n",
    "              [5, 4, 3], \n",
    "              [8, 7, 6], \n",
    "              [1, 0, 9]])\n",
    "\n",
    "P = np.array([[4, 3], \n",
    "              [6, 5], \n",
    "              [8, 7]])\n",
    "\n",
    "np.matmul(O, P)"
   ]
  },
  {
   "cell_type": "code",
   "execution_count": null,
   "id": "9b29810c",
   "metadata": {},
   "outputs": [],
   "source": [
    "# Codeblock 21\n",
    "Q = np.array([-56, 92, -24, -66, 72, -75, 90, 0, 32, 51])\n",
    "\n",
    "print(np.sign(Q))\n",
    "print(np.negative(Q))\n",
    "print(np.abs(Q))      # Alternative: np.absolute()"
   ]
  },
  {
   "cell_type": "markdown",
   "id": "6d1bf901",
   "metadata": {},
   "source": [
    "### GCD and LCM"
   ]
  },
  {
   "cell_type": "code",
   "execution_count": null,
   "id": "2df40f6f",
   "metadata": {},
   "outputs": [],
   "source": [
    "# Codeblock 22\n",
    "print(np.gcd(81, 72))    #(1)\n",
    "print(np.lcm([3, 6, 9], 24))    #(2)\n",
    "print(np.lcm([3, 12, 9], [24, 16, 3]))    #(3)"
   ]
  },
  {
   "cell_type": "markdown",
   "id": "feacb5b6",
   "metadata": {},
   "source": [
    "### Exponential Functions"
   ]
  },
  {
   "cell_type": "code",
   "execution_count": null,
   "id": "2d2d28d9",
   "metadata": {},
   "outputs": [],
   "source": [
    "# Codeblock 23\n",
    "print(np.power(8, 3))\n",
    "print(np.power([1,2,3,4], 2))\n",
    "print(np.power(144, 1/2))"
   ]
  },
  {
   "cell_type": "code",
   "execution_count": null,
   "id": "a61b905a",
   "metadata": {},
   "outputs": [],
   "source": [
    "# Codeblock 24\n",
    "print(np.square(6))             # Equivalent with: np.power(6,2)\n",
    "print(np.sqrt([144,16,9,4]))    # Equivalent with: np.power([144,16,9,4], 1/2)\n",
    "print(np.cbrt([343,27]))        # Equivalent with: np.power([343,27], 1/3)\n",
    "print(np.exp([2,3,4]))          # Equivalent with: np.power(np.e, [2,3,4])"
   ]
  },
  {
   "cell_type": "markdown",
   "id": "dcb85814",
   "metadata": {},
   "source": [
    "### Angular Conversion and Trigonometric Functions"
   ]
  },
  {
   "cell_type": "code",
   "execution_count": null,
   "id": "4305d171",
   "metadata": {},
   "outputs": [],
   "source": [
    "# Codeblock 25\n",
    "R = np.array([0, 90, 180, 270])    # Angles in degree\n",
    "S = np.array([0, np.pi/2, np.pi, np.pi*3/2])    # Angles in radian\n",
    "\n",
    "print(np.deg2rad(R))\n",
    "print(np.rad2deg(S))"
   ]
  },
  {
   "cell_type": "code",
   "execution_count": null,
   "id": "9d35c3e8",
   "metadata": {},
   "outputs": [],
   "source": [
    "# Codeblock 26\n",
    "T = np.deg2rad([0, 45, 60])\n",
    "\n",
    "print(np.sin(T))\n",
    "print(np.cos(T))\n",
    "print(np.tan(T))"
   ]
  },
  {
   "cell_type": "markdown",
   "id": "116ca830",
   "metadata": {},
   "source": [
    "### Logarithmic Functions"
   ]
  },
  {
   "cell_type": "code",
   "execution_count": null,
   "id": "bd8da14f",
   "metadata": {},
   "outputs": [],
   "source": [
    "# Codeblock 27\n",
    "U = [1, 2, 10, np.e]\n",
    "\n",
    "print(np.log(U))\n",
    "print(np.log2(U))\n",
    "print(np.log10(U))"
   ]
  },
  {
   "cell_type": "markdown",
   "id": "8c6c7f20",
   "metadata": {},
   "source": [
    "### Statistical Functions"
   ]
  },
  {
   "cell_type": "code",
   "execution_count": null,
   "id": "c65a6a0c",
   "metadata": {},
   "outputs": [],
   "source": [
    "# Codeblock 28\n",
    "V = np.array([1, 5, 4, 6, 8, 5, 4, 3, 2, 4, 7, 9, 5, 4, 3, 2, 0, 7, 9])\n",
    "\n",
    "print('sum\\t:', np.sum(V))\n",
    "print('mean\\t:', np.mean(V))\n",
    "print('median\\t:', np.median(V))\n",
    "print('var\\t:', np.var(V))\n",
    "print('stddev\\t:', np.std(V))\n",
    "print('q1\\t:', np.quantile(V, 0.25))\n",
    "print('q2\\t:', np.quantile(V, 0.5))\n",
    "print('q3\\t:', np.quantile(V, 0.75))\n",
    "print('min\\t:', np.min(V))\n",
    "print('max\\t:', np.max(V))"
   ]
  },
  {
   "cell_type": "code",
   "execution_count": null,
   "id": "3162c8e8",
   "metadata": {},
   "outputs": [],
   "source": [
    "# Codeblock 29\n",
    "print('argmin\\t:', np.argmin(V))\n",
    "print('argmax\\t:', np.argmax(V))"
   ]
  },
  {
   "cell_type": "markdown",
   "id": "506b443f",
   "metadata": {},
   "source": [
    "### Linear Algebra"
   ]
  },
  {
   "cell_type": "code",
   "execution_count": null,
   "id": "7c8c19ef",
   "metadata": {},
   "outputs": [],
   "source": [
    "# Codeblock 30\n",
    "W = np.array([10, 20, 30, 40])\n",
    "X = np.array([3, 4, 5, 6])"
   ]
  },
  {
   "cell_type": "code",
   "execution_count": null,
   "id": "448c8a54",
   "metadata": {},
   "outputs": [],
   "source": [
    "# Codeblock 31\n",
    "np.dot(W, X)"
   ]
  },
  {
   "cell_type": "code",
   "execution_count": null,
   "id": "c36371bc",
   "metadata": {},
   "outputs": [],
   "source": [
    "# Codeblock 32\n",
    "print(np.inner(W, X))\n",
    "print(np.outer(W, X))"
   ]
  },
  {
   "cell_type": "code",
   "execution_count": null,
   "id": "bb7c89f0",
   "metadata": {},
   "outputs": [],
   "source": [
    "# Codeblock 33\n",
    "Y = np.array([[2, 1, 0],\n",
    "              [0, 4, 5],\n",
    "              [2, 6, 3]])"
   ]
  },
  {
   "cell_type": "code",
   "execution_count": null,
   "id": "b3db7401",
   "metadata": {},
   "outputs": [],
   "source": [
    "# Codeblock 34\n",
    "np.transpose(Y)\n",
    "\n",
    "### Alternative\n",
    "# Y.T"
   ]
  },
  {
   "cell_type": "code",
   "execution_count": null,
   "id": "bf18bf92",
   "metadata": {},
   "outputs": [],
   "source": [
    "# Codeblock 35\n",
    "np.linalg.inv(Y)"
   ]
  },
  {
   "cell_type": "code",
   "execution_count": null,
   "id": "f49dcad5",
   "metadata": {},
   "outputs": [],
   "source": [
    "# Codeblock 36\n",
    "np.linalg.det(Y)"
   ]
  },
  {
   "cell_type": "code",
   "execution_count": null,
   "id": "2ce59cd7",
   "metadata": {},
   "outputs": [],
   "source": [
    "# Codeblock 37\n",
    "eigenvalues, eigenvectors = np.linalg.eig(Y)\n",
    "\n",
    "print(eigenvalues, end='\\n\\n')\n",
    "print(eigenvectors)"
   ]
  },
  {
   "cell_type": "markdown",
   "id": "841b7a19",
   "metadata": {},
   "source": [
    "## Logical and Bitwise Operators"
   ]
  },
  {
   "cell_type": "markdown",
   "id": "ed88db8c",
   "metadata": {},
   "source": [
    "### Logical Operators"
   ]
  },
  {
   "cell_type": "code",
   "execution_count": null,
   "id": "8851e209",
   "metadata": {},
   "outputs": [],
   "source": [
    "# Codeblock 38\n",
    "Z = np.array([True, True, True])\n",
    "AA = np.array([False, True, True])"
   ]
  },
  {
   "cell_type": "code",
   "execution_count": null,
   "id": "ee9e54bb",
   "metadata": {},
   "outputs": [],
   "source": [
    "# Codeblock 39\n",
    "print(np.logical_and(Z, AA))\n",
    "print(np.logical_or(Z, AA))\n",
    "print(np.logical_xor(Z, AA))"
   ]
  },
  {
   "cell_type": "code",
   "execution_count": null,
   "id": "fcb2864b",
   "metadata": {},
   "outputs": [],
   "source": [
    "# Codeblock 40\n",
    "print('np.any(Z): ', np.any(Z))\n",
    "print('np.all(Z): ', np.all(Z), end='\\n\\n')\n",
    "print('np.any(AA):', np.any(AA))\n",
    "print('np.all(AA):', np.all(AA))"
   ]
  },
  {
   "cell_type": "code",
   "execution_count": null,
   "id": "28fde308",
   "metadata": {},
   "outputs": [],
   "source": [
    "# Codeblock 41\n",
    "AB = np.array([2, 0, 3, -5, 5, -1, 2, -4])\n",
    "\n",
    "print(np.any(AB > 4))    #(1)\n",
    "print(np.all(AB > 4))    #(2)"
   ]
  },
  {
   "cell_type": "markdown",
   "id": "0a76cd37",
   "metadata": {},
   "source": [
    "### Bitwise Operators"
   ]
  },
  {
   "cell_type": "code",
   "execution_count": null,
   "id": "33841c3b",
   "metadata": {},
   "outputs": [],
   "source": [
    "# Codeblock 42\n",
    "print(np.bitwise_and(12, 13))\n",
    "print(np.bitwise_or(12, 13))\n",
    "print(np.bitwise_xor(12, 13))"
   ]
  },
  {
   "cell_type": "code",
   "execution_count": null,
   "id": "9871b60b",
   "metadata": {},
   "outputs": [],
   "source": [
    "# Codeblock 43\n",
    "print(np.binary_repr(12))\n",
    "print(np.binary_repr(13))"
   ]
  },
  {
   "cell_type": "markdown",
   "id": "1cbc3587",
   "metadata": {},
   "source": [
    "## Search and Sort"
   ]
  },
  {
   "cell_type": "code",
   "execution_count": null,
   "id": "09a8b670",
   "metadata": {},
   "outputs": [],
   "source": [
    "# Codeblock 44\n",
    "AC = np.array([9, 4, 5, 3, 2, 6, 8, 6, 5, 4, 5, 5, 3, 2])\n",
    "\n",
    "mask = AC > 5  #(1)\n",
    "mask"
   ]
  },
  {
   "cell_type": "code",
   "execution_count": null,
   "id": "4a318da4",
   "metadata": {},
   "outputs": [],
   "source": [
    "# Codeblock 45\n",
    "AC[mask]"
   ]
  },
  {
   "cell_type": "code",
   "execution_count": null,
   "id": "321a60d5",
   "metadata": {},
   "outputs": [],
   "source": [
    "# Codeblock 46\n",
    "AC[AC > 5]"
   ]
  },
  {
   "cell_type": "code",
   "execution_count": null,
   "id": "c14cf7b8",
   "metadata": {},
   "outputs": [],
   "source": [
    "# Codeblock 47\n",
    "AC[(AC > 5) & (AC != 9)]"
   ]
  },
  {
   "cell_type": "code",
   "execution_count": null,
   "id": "3a387c94",
   "metadata": {},
   "outputs": [],
   "source": [
    "# Codeblock 48\n",
    "AC[np.where((AC > 5) & (AC != 9))]"
   ]
  },
  {
   "cell_type": "code",
   "execution_count": null,
   "id": "03618e6c",
   "metadata": {},
   "outputs": [],
   "source": [
    "# Codeblock 49\n",
    "np.where((AC > 5) & (AC != 9))\n",
    "\n",
    "# Recall the elements of AC: [9, 4, 5, 3, 2, 6, 8, 6, 5, 4, 5, 5, 3, 2]."
   ]
  },
  {
   "cell_type": "code",
   "execution_count": null,
   "id": "d217d598",
   "metadata": {},
   "outputs": [],
   "source": [
    "# Codeblock 50\n",
    "print(AC)\n",
    "print(np.where(AC > 5, 0, AC+2))"
   ]
  },
  {
   "cell_type": "code",
   "execution_count": null,
   "id": "cd2b283b",
   "metadata": {},
   "outputs": [],
   "source": [
    "# Codeblock 51\n",
    "np.unique(AC, return_counts=True)"
   ]
  },
  {
   "cell_type": "markdown",
   "id": "c80daf97",
   "metadata": {},
   "source": [
    "### Sorting"
   ]
  },
  {
   "cell_type": "code",
   "execution_count": null,
   "id": "3c52db57",
   "metadata": {},
   "outputs": [],
   "source": [
    "# Codeblock 52\n",
    "AD = np.array([77,33,44,99,22,88,55,11,66])\n",
    "AE = np.array([\"Elon Musk\", \"Bill Gates\", \"Joe Biden\", \"Barack Obama\"])\n",
    "\n",
    "print(np.sort(AD))\n",
    "print(np.sort(AE))"
   ]
  },
  {
   "cell_type": "code",
   "execution_count": null,
   "id": "baefe6cf",
   "metadata": {},
   "outputs": [],
   "source": [
    "# Codeblock 53\n",
    "print(np.flip(np.sort(AD)))\n",
    "print(np.flip(np.sort(AE)))\n",
    "\n",
    "### Alternative\n",
    "# print(np.sort(AD)[::-1])\n",
    "# print(np.sort(AE)[::-1])"
   ]
  },
  {
   "cell_type": "code",
   "execution_count": null,
   "id": "42c228f8",
   "metadata": {},
   "outputs": [],
   "source": [
    "# Codeblock 54\n",
    "np.argsort(AD)\n",
    "\n",
    "# Recall the elements of AD: [77, 33, 44, 99, 22, 88, 55, 11, 66]."
   ]
  },
  {
   "cell_type": "code",
   "execution_count": null,
   "id": "89f9ae21",
   "metadata": {},
   "outputs": [],
   "source": [
    "# Codeblock 55\n",
    "AD[np.argsort(AD)]"
   ]
  },
  {
   "cell_type": "code",
   "execution_count": null,
   "id": "a9a54d02",
   "metadata": {},
   "outputs": [],
   "source": [
    "# Codeblock 56\n",
    "AF = np.array([[3, 1, 5, 7],\n",
    "               [8, 9, 3, 2], \n",
    "               [4, 8, 2, 6]])"
   ]
  },
  {
   "cell_type": "code",
   "execution_count": null,
   "id": "96dd3cc8",
   "metadata": {},
   "outputs": [],
   "source": [
    "# Codeblock 57\n",
    "print(np.sort(AF, axis=0), end='\\n\\n')\n",
    "print(np.sort(AF, axis=1))"
   ]
  },
  {
   "cell_type": "code",
   "execution_count": null,
   "id": "7c12aa6f",
   "metadata": {},
   "outputs": [],
   "source": [
    "# Codeblock 58\n",
    "AG = np.arange(13)\n",
    "AG"
   ]
  },
  {
   "cell_type": "code",
   "execution_count": null,
   "id": "eb786a4e",
   "metadata": {},
   "outputs": [],
   "source": [
    "# Codeblock 59\n",
    "print(np.roll(AG, shift=3))     #(1)\n",
    "print(np.roll(AG, shift=-3))    #(2)"
   ]
  },
  {
   "cell_type": "markdown",
   "id": "c1b025d7",
   "metadata": {},
   "source": [
    "## Shape and Reshape"
   ]
  },
  {
   "cell_type": "code",
   "execution_count": null,
   "id": "8f7872ec",
   "metadata": {},
   "outputs": [],
   "source": [
    "# Codeblock 60\n",
    "AH = np.array([[0,   1,  2,  3,  4,  5], \n",
    "               [6,   7,  8,  9, 10, 11], \n",
    "               [12, 13, 14, 15, 16, 17], \n",
    "               [18, 19, 20, 21, 22, 23], \n",
    "               [24, 25, 26, 27, 28, 29]])\n",
    "\n",
    "len(AH)"
   ]
  },
  {
   "cell_type": "code",
   "execution_count": null,
   "id": "1b413f75",
   "metadata": {},
   "outputs": [],
   "source": [
    "# Codeblock 61\n",
    "AH.shape"
   ]
  },
  {
   "cell_type": "code",
   "execution_count": null,
   "id": "f98ad95d",
   "metadata": {},
   "outputs": [],
   "source": [
    "# Codeblock 62\n",
    "AH.reshape(3,10)"
   ]
  },
  {
   "cell_type": "code",
   "execution_count": null,
   "id": "629706e8",
   "metadata": {},
   "outputs": [],
   "source": [
    "# Codeblock 63\n",
    "AH.reshape(2,3,5)"
   ]
  },
  {
   "cell_type": "code",
   "execution_count": null,
   "id": "203d4881",
   "metadata": {},
   "outputs": [],
   "source": [
    "# Codeblock 64\n",
    "AH.reshape(-1,5)"
   ]
  },
  {
   "cell_type": "code",
   "execution_count": null,
   "id": "27c0d797",
   "metadata": {},
   "outputs": [],
   "source": [
    "# Codeblock 65\n",
    "AH.reshape(-1,1)"
   ]
  },
  {
   "cell_type": "code",
   "execution_count": null,
   "id": "603abeab",
   "metadata": {},
   "outputs": [],
   "source": [
    "# Codeblock 66\n",
    "AH.flatten()\n",
    "\n",
    "### Alternative\n",
    "# AH.reshape(-1)"
   ]
  },
  {
   "cell_type": "code",
   "execution_count": null,
   "id": "fb98744d",
   "metadata": {},
   "outputs": [],
   "source": [
    "# Codeblock 67\n",
    "AH.flatten()[:, np.newaxis]\n",
    "\n",
    "### Alternative\n",
    "# AH.flatten().reshape(-1,1)"
   ]
  },
  {
   "cell_type": "code",
   "execution_count": null,
   "id": "3de111ac",
   "metadata": {},
   "outputs": [],
   "source": [
    "# Codeblock 68\n",
    "AH.flatten()[np.newaxis, :]\n",
    "\n",
    "### Alternative\n",
    "# AH.flatten().reshape(1,-1)"
   ]
  },
  {
   "cell_type": "markdown",
   "id": "2126c023",
   "metadata": {},
   "source": [
    "## Concatenation and Splitting"
   ]
  },
  {
   "cell_type": "code",
   "execution_count": null,
   "id": "0909f37b",
   "metadata": {},
   "outputs": [],
   "source": [
    "# Codeblock 69\n",
    "AI = np.array(np.random.randint(0, 5, (2,4)))\n",
    "AJ = np.array(np.random.randint(5, 10, (2,4)))\n",
    "\n",
    "print(AI, end='\\n\\n')\n",
    "print(AJ)"
   ]
  },
  {
   "cell_type": "code",
   "execution_count": null,
   "id": "cc9453cf",
   "metadata": {},
   "outputs": [],
   "source": [
    "# Codeblock 70\n",
    "np.vstack((AI,AJ))"
   ]
  },
  {
   "cell_type": "code",
   "execution_count": null,
   "id": "298cadc4",
   "metadata": {},
   "outputs": [],
   "source": [
    "# Codeblock 71\n",
    "np.hstack((AI,AJ))"
   ]
  },
  {
   "cell_type": "code",
   "execution_count": null,
   "id": "52c549be",
   "metadata": {},
   "outputs": [],
   "source": [
    "# Codeblock 72\n",
    "print(np.vstack((AI,AJ,AJ,AJ,AI)), end='\\n\\n')\n",
    "print(np.hstack((AI,AJ,AJ,AJ,AI)))"
   ]
  },
  {
   "cell_type": "code",
   "execution_count": null,
   "id": "94560ce0",
   "metadata": {},
   "outputs": [],
   "source": [
    "# Codeblock 73\n",
    "print(np.append(AI, AJ), end='\\n\\n')\n",
    "print(np.append(AI, AJ, axis=0), end='\\n\\n')\n",
    "print(np.append(AI, AJ, axis=1))"
   ]
  },
  {
   "cell_type": "code",
   "execution_count": null,
   "id": "15ff705d",
   "metadata": {},
   "outputs": [],
   "source": [
    "# Codeblock 74\n",
    "print(np.concatenate([AI, AI, AI], axis=None), end='\\n\\n')\n",
    "print(np.concatenate([AI, AI, AI]), end='\\n\\n')\n",
    "print(np.concatenate([AI, AI, AI], axis=1))"
   ]
  },
  {
   "cell_type": "markdown",
   "id": "b21c84d1",
   "metadata": {},
   "source": [
    "### Splitting"
   ]
  },
  {
   "cell_type": "code",
   "execution_count": null,
   "id": "e015632c",
   "metadata": {},
   "outputs": [],
   "source": [
    "# Codeblock 75\n",
    "AK = np.random.randint(0, 10, (20))\n",
    "AK"
   ]
  },
  {
   "cell_type": "code",
   "execution_count": 2,
   "id": "c397112b",
   "metadata": {},
   "outputs": [
    {
     "ename": "NameError",
     "evalue": "name 'np' is not defined",
     "output_type": "error",
     "traceback": [
      "\u001b[1;31m---------------------------------------------------------------------------\u001b[0m",
      "\u001b[1;31mNameError\u001b[0m                                 Traceback (most recent call last)",
      "Cell \u001b[1;32mIn[2], line 2\u001b[0m\n\u001b[0;32m      1\u001b[0m \u001b[38;5;66;03m# Codeblock 76\u001b[39;00m\n\u001b[1;32m----> 2\u001b[0m \u001b[43mnp\u001b[49m\u001b[38;5;241m.\u001b[39msplit(AK, indices_or_sections\u001b[38;5;241m=\u001b[39m[\u001b[38;5;241m3\u001b[39m,\u001b[38;5;241m5\u001b[39m])\n",
      "\u001b[1;31mNameError\u001b[0m: name 'np' is not defined"
     ]
    }
   ],
   "source": [
    "# Codeblock 76\n",
    "np.split(AK, indices_or_sections=[3,5])"
   ]
  },
  {
   "cell_type": "code",
   "execution_count": null,
   "id": "87c2f5f5",
   "metadata": {},
   "outputs": [],
   "source": [
    "# Codeblock 77\n",
    "AL = np.random.randint(0, 10, (5,6))\n",
    "AL"
   ]
  },
  {
   "cell_type": "code",
   "execution_count": null,
   "id": "eaeb17c6",
   "metadata": {},
   "outputs": [],
   "source": [
    "# Codeblock 78\n",
    "np.vsplit(AL, [2,4])\n",
    "\n",
    "### Alternative\n",
    "# np.split(AL, [2,4], axis=0)"
   ]
  },
  {
   "cell_type": "code",
   "execution_count": null,
   "id": "eb8cb6a0",
   "metadata": {},
   "outputs": [],
   "source": [
    "# Codeblock 79\n",
    "np.hsplit(AL, [3,4])\n",
    "\n",
    "### Alternative\n",
    "# np.split(AL, [3,4], axis=1) #equivalent"
   ]
  },
  {
   "cell_type": "markdown",
   "id": "d4b275d1",
   "metadata": {},
   "source": []
  }
 ],
 "metadata": {
  "kernelspec": {
   "display_name": "Python 3 (ipykernel)",
   "language": "python",
   "name": "python3"
  },
  "language_info": {
   "codemirror_mode": {
    "name": "ipython",
    "version": 3
   },
   "file_extension": ".py",
   "mimetype": "text/x-python",
   "name": "python",
   "nbconvert_exporter": "python",
   "pygments_lexer": "ipython3",
   "version": "3.11.4"
  }
 },
 "nbformat": 4,
 "nbformat_minor": 5
}
